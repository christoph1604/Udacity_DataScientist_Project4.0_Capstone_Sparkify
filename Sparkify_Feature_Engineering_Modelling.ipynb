{
 "cells": [
  {
   "cell_type": "markdown",
   "metadata": {},
   "source": [
    "# Sparkify Project Workspace\n",
    "This workspace contains a tiny subset (128MB) of the full dataset available (12GB). Feel free to use this workspace to build your project, or to explore a smaller subset with Spark before deploying your cluster on the cloud. Instructions for setting up your Spark cluster is included in the last lesson of the Extracurricular Spark Course content.\n",
    "\n",
    "You can follow the steps below to guide your data analysis and model building portion of this project."
   ]
  },
  {
   "cell_type": "code",
   "execution_count": 1,
   "metadata": {},
   "outputs": [],
   "source": [
    "# import libraries for feature engineering\n",
    "from pyspark.sql import SparkSession\n",
    "from pyspark.sql.types import IntegerType\n",
    "from pyspark.ml.feature import RegexTokenizer, VectorAssembler\n",
    "from pyspark.ml.regression import LinearRegression\n",
    "from pyspark.sql.types import *\n",
    "from pyspark.sql import Window\n",
    "from pyspark.sql.functions import from_unixtime\n",
    "from pyspark.sql.types import DateType\n",
    "from pytz import timezone\n",
    "from matplotlib import pyplot as plt\n",
    "\n",
    "import datetime\n",
    "import pyspark.sql.functions as f\n",
    "import numpy as np"
   ]
  },
  {
   "cell_type": "code",
   "execution_count": 2,
   "metadata": {},
   "outputs": [],
   "source": [
    "# create a Spark session\n",
    "\n",
    "spark = SparkSession.builder \\\n",
    "    .master(\"local\") \\\n",
    "    .appName(\"Creating Features\") \\\n",
    "    .getOrCreate()"
   ]
  },
  {
   "cell_type": "markdown",
   "metadata": {},
   "source": [
    "# Load and Clean Dataset\n",
    "In this workspace, the mini-dataset file is `mini_sparkify_event_data.json`. Load and clean the dataset, checking for invalid or missing data - for example, records without userids or sessionids. "
   ]
  },
  {
   "cell_type": "code",
   "execution_count": 3,
   "metadata": {},
   "outputs": [
    {
     "data": {
      "text/plain": [
       "DataFrame[artist: string, auth: string, firstName: string, gender: string, itemInSession: bigint, lastName: string, length: double, level: string, location: string, method: string, page: string, registration: bigint, sessionId: bigint, song: string, status: bigint, ts: bigint, userAgent: string, userId: string]"
      ]
     },
     "execution_count": 3,
     "metadata": {},
     "output_type": "execute_result"
    }
   ],
   "source": [
    "# Load dataset from .json file\n",
    "\n",
    "stack_overflow_data = 'mini_sparkify_event_data.json'\n",
    "df = spark.read.json(stack_overflow_data)\n",
    "df.persist()"
   ]
  },
  {
   "cell_type": "code",
   "execution_count": 4,
   "metadata": {},
   "outputs": [],
   "source": [
    "# For testing: Possibly subset dataset to increase speed\n",
    "\n",
    "#df=df.limit(1000)"
   ]
  },
  {
   "cell_type": "code",
   "execution_count": 5,
   "metadata": {},
   "outputs": [],
   "source": [
    "# Filter out entries without userId, i.e. where user cannot be identified (because he is not logged in)\n",
    "\n",
    "df=df.where(df.userId!=\"\")"
   ]
  },
  {
   "cell_type": "markdown",
   "metadata": {},
   "source": [
    "# Feature Engineering\n",
    "Once you've familiarized yourself with the data, build out the features you find promising to train your model on. To work with the full dataset, you can follow the following steps.\n",
    "- Write a script to extract the necessary features from the smaller subset of data\n",
    "- Ensure that your script is scalable, using the best practices discussed in Lesson 3\n",
    "- Try your script on the full data set, debugging your script if necessary\n",
    "\n",
    "If you are working in the classroom workspace, you can just extract features based on the small subset of data contained here. Be sure to transfer over this work to the larger dataset when you work on your Spark cluster."
   ]
  },
  {
   "cell_type": "code",
   "execution_count": 6,
   "metadata": {},
   "outputs": [],
   "source": [
    "# Churn event\n",
    "\n",
    "# Add column for churn event\n",
    "# Churn event = \"Cancellation Confirmation\"\n",
    "isChurnEvent=f.udf(lambda x: 1 if (x==\"Cancellation Confirmation\") else 0, IntegerType() )\n",
    "df=df.withColumn(\"churn\", isChurnEvent(df.page))\n",
    "\n",
    "# Add column for churn users\n",
    "# A churn user is a user with at least one churn event\n",
    "userWin=Window.partitionBy(\"userId\").rangeBetween(Window.unboundedPreceding, Window.unboundedFollowing)\n",
    "df=df.withColumn(\"churnUser\", f.sum(df.churn).over(userWin))"
   ]
  },
  {
   "cell_type": "code",
   "execution_count": 7,
   "metadata": {},
   "outputs": [],
   "source": [
    "# Operating system\n",
    "# Extracts operating system of column userAgent\n",
    "\n",
    "def getOSOfStr(str1):\n",
    "    \"\"\"\n",
    "    Checks if str1 contains label of an operating system \n",
    "    and returns it.\n",
    "    \"\"\"\n",
    "    if str1 == None:\n",
    "        return np.NaN\n",
    "    \n",
    "    if \"Mac OS\" in str1: \n",
    "        return \"Mac OS\"\n",
    "    elif \"iPhone OS\" in str1:\n",
    "        return \"iOS\"\n",
    "    elif \"Windows NT 5.1\" in str1:\n",
    "        return \"Windows XP\"\n",
    "    elif \"Windows NT 6.0\" in str1:\n",
    "        return \"Windows Vista\"\n",
    "    elif \"Windows NT 6.1\" in str1:\n",
    "        return \"Windows 7\"\n",
    "    elif \"Windows NT 6.2\" in str1:\n",
    "        return \"Windows 8\"\n",
    "    elif \"Windows NT 6.3\" in str1:\n",
    "        return \"Windows 8.1\"\n",
    "    elif \"Ubuntu\" in str1:\n",
    "        return \"Ubuntu\"\n",
    "    elif \"Linux\" in str1:\n",
    "        return \"Linux\"\n",
    "    else:\n",
    "        return np.NaN\n",
    "\n",
    "getOS=f.udf(lambda x: getOSOfStr(x), StringType())\n",
    "df=df.withColumn(\"OS\", getOS(df.userAgent))"
   ]
  },
  {
   "cell_type": "code",
   "execution_count": 8,
   "metadata": {},
   "outputs": [],
   "source": [
    "# Browser\n",
    "# Extracts used browser of column userAgent\n",
    "\n",
    "def getBrowserOfStr(str1):\n",
    "    \"\"\"\n",
    "    Checks if str1 contains a browser name\n",
    "    and returns it.\n",
    "    \"\"\"\n",
    "    if str1 == None:\n",
    "        return np.NaN\n",
    "    \n",
    "    if \"Safari\" in str1:\n",
    "        if \"Chrome\" in str1:\n",
    "            return \"Chrome\"\n",
    "        else:\n",
    "            return \"Safari\"\n",
    "    elif \"Firefox\" in str1:\n",
    "        return \"Firefox\"\n",
    "    elif \"Trident\" in str1:\n",
    "        return \"Internet Explorer\"\n",
    "    else:\n",
    "        return np.NaN\n",
    "    \n",
    "getBrowser=f.udf(lambda x: getBrowserOfStr(x), StringType())\n",
    "df=df.withColumn(\"Browser\", getBrowser(df.userAgent))"
   ]
  },
  {
   "cell_type": "code",
   "execution_count": 9,
   "metadata": {},
   "outputs": [],
   "source": [
    "# State\n",
    "# Extracts state name out of the string in column 'location'\n",
    "\n",
    "def getStateOfStr(str1):\n",
    "    \"\"\"\n",
    "    Subsets str1 and gives back the name of the state.\n",
    "    \"\"\"\n",
    "    if str1 == None:\n",
    "        return np.NaN\n",
    "    \n",
    "    commaPos=str1.rindex(\",\")\n",
    "    rightSubstr=str1[commaPos+1:]\n",
    "    return rightSubstr.strip()\n",
    "\n",
    "getState=f.udf(lambda x: getStateOfStr(x), StringType())\n",
    "df=df.withColumn(\"State\", getState(df.location))"
   ]
  },
  {
   "cell_type": "code",
   "execution_count": 10,
   "metadata": {},
   "outputs": [],
   "source": [
    "# Add column with readable date of event\n",
    "convertToDate=f.udf(lambda x: datetime.datetime.fromtimestamp(x/1000.0).date().isoformat())\n",
    "df=df.withColumn(\"readableDate\", convertToDate(df.ts))"
   ]
  },
  {
   "cell_type": "code",
   "execution_count": 11,
   "metadata": {},
   "outputs": [],
   "source": [
    "# Add column with readable time of event\n",
    "convertToTime=f.udf(lambda x: datetime.datetime.fromtimestamp(x/1000.0).time().isoformat())\n",
    "df=df.withColumn(\"readableTime\", convertToTime(df.ts))"
   ]
  },
  {
   "cell_type": "code",
   "execution_count": 12,
   "metadata": {},
   "outputs": [],
   "source": [
    "# Add column with weekday of event, coded as isoweekday, i.e. Monday=1, Tuesday=2, ...\n",
    "convertToWeekday=f.udf(lambda x: datetime.datetime.fromtimestamp(x/1000.0).date().isoweekday(), IntegerType())\n",
    "df=df.withColumn(\"weekday\", convertToWeekday(df.ts))"
   ]
  },
  {
   "cell_type": "code",
   "execution_count": 13,
   "metadata": {},
   "outputs": [],
   "source": [
    "# Add column with hour of the day\n",
    "# As the locations of the entries in our dataset all are in the U.S., we use time zone 'US/Central' (simplification)\n",
    "ourTimezone=\"US/Central\"\n",
    "getHour=f.udf(lambda x: datetime.datetime.fromtimestamp(x/1000.0)\n",
    "              .astimezone(timezone(ourTimezone)).time().hour, IntegerType())\n",
    "df=df.withColumn(\"hour\", getHour(df.ts))"
   ]
  },
  {
   "cell_type": "code",
   "execution_count": 14,
   "metadata": {},
   "outputs": [],
   "source": [
    "# Add column with day of the year\n",
    "getDayOfYear=f.udf(lambda x: datetime.datetime.fromtimestamp(x/1000.0).timetuple().tm_yday, IntegerType())\n",
    "df=df.withColumn(\"dayOfYear\", getDayOfYear(df.ts))"
   ]
  },
  {
   "cell_type": "code",
   "execution_count": 15,
   "metadata": {},
   "outputs": [
    {
     "data": {
      "text/plain": [
       "278154"
      ]
     },
     "execution_count": 15,
     "metadata": {},
     "output_type": "execute_result"
    }
   ],
   "source": [
    "df.cache().count()"
   ]
  },
  {
   "cell_type": "code",
   "execution_count": 16,
   "metadata": {},
   "outputs": [
    {
     "name": "stdout",
     "output_type": "stream",
     "text": [
      "root\n",
      " |-- artist: string (nullable = true)\n",
      " |-- auth: string (nullable = true)\n",
      " |-- firstName: string (nullable = true)\n",
      " |-- gender: string (nullable = true)\n",
      " |-- itemInSession: long (nullable = true)\n",
      " |-- lastName: string (nullable = true)\n",
      " |-- length: double (nullable = true)\n",
      " |-- level: string (nullable = true)\n",
      " |-- location: string (nullable = true)\n",
      " |-- method: string (nullable = true)\n",
      " |-- page: string (nullable = true)\n",
      " |-- registration: long (nullable = true)\n",
      " |-- sessionId: long (nullable = true)\n",
      " |-- song: string (nullable = true)\n",
      " |-- status: long (nullable = true)\n",
      " |-- ts: long (nullable = true)\n",
      " |-- userAgent: string (nullable = true)\n",
      " |-- userId: string (nullable = true)\n",
      " |-- churn: integer (nullable = true)\n",
      " |-- churnUser: long (nullable = true)\n",
      " |-- OS: string (nullable = true)\n",
      " |-- Browser: string (nullable = true)\n",
      " |-- State: string (nullable = true)\n",
      " |-- readableDate: string (nullable = true)\n",
      " |-- readableTime: string (nullable = true)\n",
      " |-- weekday: integer (nullable = true)\n",
      " |-- hour: integer (nullable = true)\n",
      " |-- dayOfYear: integer (nullable = true)\n",
      "\n"
     ]
    }
   ],
   "source": [
    "df.printSchema()"
   ]
  },
  {
   "cell_type": "code",
   "execution_count": 17,
   "metadata": {},
   "outputs": [],
   "source": [
    "# Convert dataset\n",
    "\n",
    "# In the following cells, we build a new dataset df_users containing churn-relevant data per user.\n",
    "# The original dataset 'df', which contains the event trace over the whole time period, is used as basis here"
   ]
  },
  {
   "cell_type": "code",
   "execution_count": 18,
   "metadata": {},
   "outputs": [
    {
     "data": {
      "text/plain": [
       "array([[<matplotlib.axes._subplots.AxesSubplot object at 0x0000024869604C10>]],\n",
       "      dtype=object)"
      ]
     },
     "execution_count": 18,
     "metadata": {},
     "output_type": "execute_result"
    },
    {
     "data": {
      "image/png": "[encoded data removed]",
      "text/plain": [
       "<Figure size 432x288 with 1 Axes>"
      ]
     },
     "metadata": {
      "needs_background": "light"
     },
     "output_type": "display_data"
    }
   ],
   "source": [
    "# Analyze average number of songs per day\n",
    "songs_per_day=df.where(df.page==\"NextSong\").groupby(\"userId\", \"dayOfYear\").count().sort(\"userId\", \"dayOfYear\")\n",
    "songs_per_day_user=songs_per_day.groupby(\"userId\").agg({\"count\": \"avg\"}).select(\"userId\", f.round(\"avg(count)\", 0).alias(\"songs_per_day\"))\n",
    "songs_per_day_user.select(\"songs_per_day\").toPandas().hist()\n",
    "# -> Doesn't have much meaning if evaluated over whole interval because it's clear that churned users hear less songs per day \n",
    "# after they churned\n",
    "# -> It's reasonable to calculate additional features only for period before churn event"
   ]
  },
  {
   "cell_type": "code",
   "execution_count": 19,
   "metadata": {},
   "outputs": [],
   "source": [
    "# Initialize df_users with categorical features of dataframe df\n",
    "df_users=df.select(\"userId\", \"gender\", \"Browser\", \"OS\", \"State\", \"churnUser\").dropDuplicates([\"userId\"])"
   ]
  },
  {
   "cell_type": "code",
   "execution_count": 20,
   "metadata": {},
   "outputs": [],
   "source": [
    "# Add column for day of first churn action\n",
    "dayOfFirstChurn=df.filter(df.page==\"Cancellation Confirmation\") \\\n",
    ".select(\"userId\", \"dayOfYear\").groupby(\"userId\").agg({\"dayOfYear\":\"min\"}) \\\n",
    ".withColumnRenamed(\"min(dayOfYear)\", \"dayOfFirstChurn\")\n",
    "\n",
    "df_users=df_users.join(dayOfFirstChurn, on=[\"userId\"], how=\"left\")"
   ]
  },
  {
   "cell_type": "code",
   "execution_count": 21,
   "metadata": {},
   "outputs": [],
   "source": [
    "# Add column for number of days of usage\n",
    "# (i.e. number of days of usage of the Sparkify service between minimum date of dataset and day of churn event (per user))\n",
    "# (used for mean calculation in the following cells)\n",
    "\n",
    "min_ts=df.agg(f.min(\"ts\")).collect()[0][0]\n",
    "max_ts=df.agg(f.max(\"ts\")).collect()[0][0]\n",
    "\n",
    "min_date = datetime.datetime.fromtimestamp(min_ts/1000.0)\n",
    "max_date = datetime.datetime.fromtimestamp(max_ts/1000.0)\n",
    "minDayOfYear=min_date.timetuple().tm_yday\n",
    "maxDayOfYear=max_date.timetuple().tm_yday\n",
    "\n",
    "usageDays=f.udf(lambda x: (x-minDayOfYear+1) if x is not None else maxDayOfYear-minDayOfYear+1 , IntegerType())\n",
    "df_users=df_users.withColumn(\"usageDays\", usageDays(df_users.dayOfFirstChurn))"
   ]
  },
  {
   "cell_type": "code",
   "execution_count": 22,
   "metadata": {},
   "outputs": [],
   "source": [
    "# Add column for number of songs per day / per user before churn event\n",
    "\n",
    "# per user, mark the rows before and after churn action\n",
    "df.createOrReplaceTempView(\"df\")\n",
    "\n",
    "period_table = spark.sql('''\n",
    "    SELECT *, MAX(churn) OVER\n",
    "    (PARTITION BY userID ORDER BY dayOfYear ASC ROWS BETWEEN UNBOUNDED PRECEDING AND CURRENT ROW) AS period\n",
    "    FROM df\n",
    "    ''')\n",
    "\n",
    "# keep the results in a view\n",
    "period_table.createOrReplaceTempView(\"period_table\")\n",
    "\n",
    "# find the average count for NextSong\n",
    "songsBeforeChurn=spark.sql('''\n",
    "        SELECT userID, COUNT(*) AS songsBeforeChurn FROM period_table\n",
    "        WHERE period = 0 AND page = 'NextSong'\n",
    "        GROUP BY userID\n",
    "        ''')\n",
    "\n",
    "df_users=df_users.join(songsBeforeChurn, on=[\"userId\"], how=\"left\")\n",
    "df_users=df_users.withColumn(\"songsPerDayBeforeChurn\", (df_users.songsBeforeChurn / df_users.usageDays)).drop(\"songsBeforeChurn\")"
   ]
  },
  {
   "cell_type": "code",
   "execution_count": 23,
   "metadata": {},
   "outputs": [],
   "source": [
    "# Add column for number of \"Thumbs up\" per day / per user before churn event\n",
    "\n",
    "# find the average count for Thumbs Up\n",
    "thumbsUpBeforeChurn=spark.sql('''\n",
    "        SELECT userID, COUNT(*) AS thumbsUpBeforeChurn FROM period_table\n",
    "        WHERE period = 0 AND page = 'Thumbs Up'\n",
    "        GROUP BY userID\n",
    "        ''')\n",
    "\n",
    "df_users=df_users.join(thumbsUpBeforeChurn, on=[\"userId\"], how=\"left\")\n",
    "df_users=df_users.withColumn(\"thumbsUpPerDayBeforeChurn\", (df_users.thumbsUpBeforeChurn / df_users.usageDays)).drop(\"thumbsUpBeforeChurn\")"
   ]
  },
  {
   "cell_type": "code",
   "execution_count": 24,
   "metadata": {},
   "outputs": [],
   "source": [
    "# Add column for number of \"Errors\" per day / per user before churn event\n",
    "\n",
    "# find the average count for errors\n",
    "errorsBeforeChurn=spark.sql('''\n",
    "        SELECT userID, COUNT(*) AS errorsBeforeChurn FROM period_table\n",
    "        WHERE period = 0 AND page = 'Error'\n",
    "        GROUP BY userID\n",
    "        ''')\n",
    "\n",
    "df_users=df_users.join(errorsBeforeChurn, on=[\"userId\"], how=\"left\")\n",
    "df_users=df_users.withColumn(\"errorsPerDayBeforeChurn\", (df_users.errorsBeforeChurn / df_users.usageDays)).drop(\"errorsBeforeChurn\")"
   ]
  },
  {
   "cell_type": "code",
   "execution_count": 25,
   "metadata": {},
   "outputs": [],
   "source": [
    "# Add column for number of \"Help\" per day / per user before churn event\n",
    "\n",
    "# find the average count for help page accesses\n",
    "helpBeforeChurn=spark.sql('''\n",
    "        SELECT userID, COUNT(*) AS helpBeforeChurn FROM period_table\n",
    "        WHERE period = 0 AND page = 'Help'\n",
    "        GROUP BY userID\n",
    "        ''')\n",
    "\n",
    "df_users=df_users.join(helpBeforeChurn, on=[\"userId\"], how=\"left\")\n",
    "df_users=df_users.withColumn(\"helpPerDayBeforeChurn\", (df_users.helpBeforeChurn / df_users.usageDays)).drop(\"helpBeforeChurn\")"
   ]
  },
  {
   "cell_type": "code",
   "execution_count": 26,
   "metadata": {},
   "outputs": [],
   "source": [
    "# Add column for number of different artists per day before churn event\n",
    "\n",
    "artistsBeforeChurn=spark.sql('''\n",
    "        SELECT userID, COUNT(*) AS artistsBeforeChurn FROM (\n",
    "            SELECT DISTINCT userId, artist\n",
    "            FROM period_table\n",
    "            WHERE period=0 AND page = 'NextSong'\n",
    "        )\n",
    "        GROUP BY userID\n",
    "        ''')\n",
    "\n",
    "df_users=df_users.join(artistsBeforeChurn, on=[\"userId\"], how=\"left\")\n",
    "df_users=df_users.withColumn(\"artistsPerDayBeforeChurn\", (df_users.artistsBeforeChurn / df_users.usageDays)).drop(\"artistsBeforeChurn\")"
   ]
  },
  {
   "cell_type": "code",
   "execution_count": 27,
   "metadata": {},
   "outputs": [],
   "source": [
    "# Add column for average session length\n",
    "\n",
    "temp1=df.groupby(\"userId\", \"sessionId\").count()\n",
    "avgSessionLength=temp1.groupby(\"userId\").agg({\"count\":\"avg\"}).withColumnRenamed(\"avg(count)\", \"avgSessionLength\")\n",
    "df_users=df_users.join(avgSessionLength, on=[\"userId\"], how=\"left\")"
   ]
  },
  {
   "cell_type": "code",
   "execution_count": 28,
   "metadata": {},
   "outputs": [],
   "source": [
    "# Add column for main hour of usage \n",
    "\n",
    "temp2=df.groupby(\"userId\", \"hour\").count().sort(\"userId\", \"hour\")\n",
    "userWin=Window.partitionBy(\"userId\")\n",
    "primHourOfUsage=temp2.withColumn(\"maxCount\", f.max(temp2[\"count\"]).over(userWin))\n",
    "primHourOfUsage=primHourOfUsage.where(primHourOfUsage[\"maxCount\"]==primHourOfUsage[\"count\"]).select(\"userId\", \"hour\").dropDuplicates([\"userId\"]).withColumnRenamed(\"hour\", \"mainUsageHour\")\n",
    "df_users=df_users.join(primHourOfUsage, on=[\"userId\"], how=\"left\")"
   ]
  },
  {
   "cell_type": "code",
   "execution_count": 29,
   "metadata": {},
   "outputs": [
    {
     "data": {
      "text/plain": [
       "225"
      ]
     },
     "execution_count": 29,
     "metadata": {},
     "output_type": "execute_result"
    }
   ],
   "source": [
    "df_users.cache().count()"
   ]
  },
  {
   "cell_type": "code",
   "execution_count": 30,
   "metadata": {},
   "outputs": [],
   "source": [
    "# Prepare df_users table for modelling\n",
    "\n",
    "# Remove NANs and drop columns with intermediate values\n",
    "df_users=df_users.drop(\"dayOfFirstChurn\", \"usageDays\")\n",
    "df_users=df_users.fillna(0, subset=[\"songsPerDayBeforeChurn\", \"thumbsUpPerDayBeforeChurn\", \n",
    "                                    \"errorsPerDayBeforeChurn\", \"helpPerDayBeforeChurn\", \"artistsPerDayBeforeChurn\" ])\n",
    "\n",
    "# Define categorical and numerical columns\n",
    "categoricalColumns=[\"gender\", \"Browser\", \"OS\", \"State\"]\n",
    "numericalColumns=[\"songsPerDayBeforeChurn\", \"thumbsUpPerDayBeforeChurn\", \"errorsPerDayBeforeChurn\", \n",
    "                  \"helpPerDayBeforeChurn\", \"artistsPerDayBeforeChurn\", \"avgSessionLength\", \"mainUsageHour\"]\n",
    "\n",
    "# Create dummy variables for categorical features\n",
    "def getDummies(df, columnNames):\n",
    "    allExprs=df.columns\n",
    "    for cName in columnNames:\n",
    "        categ = df.select(cName).distinct().rdd.flatMap(lambda x:x).collect()\n",
    "        exprs = [f.when(f.col(cName) == cat,1).otherwise(0).alias(str(cat).replace(\" \", \"_\")) for cat in categ]\n",
    "        allExprs=allExprs+exprs        \n",
    "    df2 = df.select(allExprs)\n",
    "    df2=df2.drop(*columnNames)\n",
    "    return df2\n",
    "\n",
    "df_users_2=getDummies(df_users, categoricalColumns)\n",
    "\n",
    "# Replace '.' in column name of dummy variable\n",
    "df_users_2=df_users_2.withColumnRenamed(\"Windows_8.1\", \"Windows_8_1\")\n",
    "\n",
    "categoricalDummyColumns = [col for col in df_users_2.columns if (col not in numericalColumns) \n",
    "                           and (col not in [\"userId\", \"churnUser\", \"numColsAss\", \"scaledNumCols\"])]"
   ]
  },
  {
   "cell_type": "code",
   "execution_count": 31,
   "metadata": {},
   "outputs": [
    {
     "data": {
      "text/plain": [
       "225"
      ]
     },
     "execution_count": 31,
     "metadata": {},
     "output_type": "execute_result"
    }
   ],
   "source": [
    "df_users_2.cache().count()"
   ]
  },
  {
   "cell_type": "code",
   "execution_count": 32,
   "metadata": {},
   "outputs": [],
   "source": [
    "# Write backup data to file system\n",
    "\n",
    "# df_users.toPandas().to_csv(r\"./df_users.csv\", header=True, index=False)\n",
    "#df_users_2.write.save(\"testOutput.csv\")"
   ]
  },
  {
   "cell_type": "code",
   "execution_count": 33,
   "metadata": {},
   "outputs": [
    {
     "name": "stderr",
     "output_type": "stream",
     "text": [
      "<ipython-input-33-111131ff680b>:6: UserWarning: To output multiple subplots, the figure containing the passed axes is being cleared\n",
      "  h = df_features_pd[numericalColumns].hist(ax=ax)\n"
     ]
    },
    {
     "data": {
      "image/png": "[encoded data removed]",
      "text/plain": [
       "<Figure size 1440x1080 with 9 Axes>"
      ]
     },
     "metadata": {
      "needs_background": "light"
     },
     "output_type": "display_data"
    }
   ],
   "source": [
    "# Print histograms for the numerical features\n",
    "\n",
    "df_features_pd=df_users_2.toPandas()\n",
    "fig = plt.figure(figsize=(20,15))\n",
    "ax = fig.gca()\n",
    "h = df_features_pd[numericalColumns].hist(ax=ax)"
   ]
  },
  {
   "cell_type": "code",
   "execution_count": 44,
   "metadata": {},
   "outputs": [
    {
     "name": "stdout",
     "output_type": "stream",
     "text": [
      "root\n",
      " |-- userId: string (nullable = true)\n",
      " |-- gender: string (nullable = true)\n",
      " |-- Browser: string (nullable = true)\n",
      " |-- OS: string (nullable = true)\n",
      " |-- State: string (nullable = true)\n",
      " |-- churnUser: long (nullable = true)\n",
      " |-- songsPerDayBeforeChurn: double (nullable = false)\n",
      " |-- thumbsUpPerDayBeforeChurn: double (nullable = false)\n",
      " |-- errorsPerDayBeforeChurn: double (nullable = false)\n",
      " |-- helpPerDayBeforeChurn: double (nullable = false)\n",
      " |-- artistsPerDayBeforeChurn: double (nullable = false)\n",
      " |-- avgSessionLength: double (nullable = true)\n",
      " |-- mainUsageHour: integer (nullable = true)\n",
      "\n"
     ]
    }
   ],
   "source": [
    "df_users.printSchema()"
   ]
  },
  {
   "cell_type": "markdown",
   "metadata": {},
   "source": [
    "As the distributions of the numerical features seem very biased (i.e. non-normal), a standardization should be applied before training classification algorithms. Only 'mainUsageHour' will be excluded from standardization as this operation is meaningless here (due to cyclic scale). "
   ]
  },
  {
   "cell_type": "markdown",
   "metadata": {},
   "source": [
    "# Modeling\n",
    "Split the full dataset into train, test, and validation sets. Test out several of the machine learning methods you learned. Evaluate the accuracy of the various models, tuning parameters as necessary. Determine your winning model based on test accuracy and report results on the validation set. Since the churned users are a fairly small subset, I suggest using F1 score as the metric to optimize."
   ]
  },
  {
   "cell_type": "code",
   "execution_count": 34,
   "metadata": {},
   "outputs": [],
   "source": [
    "# Import libraries for modelling\n",
    "\n",
    "from pyspark.ml.feature import VectorAssembler\n",
    "from pyspark.ml.feature import StandardScaler\n",
    "\n",
    "from pyspark.ml.classification import LogisticRegression\n",
    "from pyspark.ml.evaluation import MulticlassClassificationEvaluator\n",
    "from pyspark.ml.classification import RandomForestClassifier\n",
    "from pyspark.ml.classification import DecisionTreeClassifier\n",
    "from pyspark.ml.classification import LinearSVC\n",
    "from pyspark.ml.classification import GBTClassifier\n",
    "from pyspark.ml.classification import MultilayerPerceptronClassifier\n",
    "\n",
    "from pyspark.ml.tuning import ParamGridBuilder\n",
    "from pyspark.ml.tuning import CrossValidator\n",
    "\n",
    "import pandas as pd"
   ]
  },
  {
   "cell_type": "code",
   "execution_count": 35,
   "metadata": {},
   "outputs": [],
   "source": [
    "# Assemble and standardize/scale numerical features\n",
    "\n",
    "numericalColumns.remove(\"mainUsageHour\")\n",
    "assemblerNumerical = VectorAssembler(inputCols=numericalColumns, outputCol=\"numColsAss\")\n",
    "df_user_3=assemblerNumerical.transform(df_users_2)\n",
    "stdScaler = StandardScaler(inputCol=\"numColsAss\", outputCol=\"scaledNumCols\", withMean=True, withStd=True)\n",
    "stdScalerModel=stdScaler.fit(df_user_3)\n",
    "df_user_3_scaled=stdScalerModel.transform(df_user_3)"
   ]
  },
  {
   "cell_type": "code",
   "execution_count": 36,
   "metadata": {},
   "outputs": [],
   "source": [
    "# Assemble all feature columns into one single column (for classification algorithms)\n",
    "\n",
    "assemblerAll = VectorAssembler(inputCols=[\"scaledNumCols\"]+[\"mainUsageHour\"]+categoricalDummyColumns, outputCol=\"features\")\n",
    "df_user_4_scaled=assemblerAll.transform(df_user_3_scaled)\n",
    "df_final=df_user_4_scaled.select(df_user_4_scaled.churnUser.alias(\"label\"), df_user_4_scaled.features)"
   ]
  },
  {
   "cell_type": "code",
   "execution_count": 37,
   "metadata": {},
   "outputs": [],
   "source": [
    "# Train-test-split\n",
    "\n",
    "df_train, df_test = df_final.randomSplit([0.7, 0.3], seed=42)"
   ]
  },
  {
   "cell_type": "code",
   "execution_count": 38,
   "metadata": {},
   "outputs": [],
   "source": [
    "# Function for training/testing of a classifier\n",
    "\n",
    "def testClassifier(classifier, trainSet, testSet):\n",
    "    '''\n",
    "    Takes classifier, trains model on trainSet and tests it on testSet using MulticlassClassificationEvaluator\n",
    "    Returns f1 score and accuracy for this classifier in a tuple.\n",
    "    '''\n",
    "    mcEvaluator= MulticlassClassificationEvaluator(predictionCol=\"prediction\")    \n",
    "    model = classifier.fit(trainSet)\n",
    "    df_prediction = model.transform(testSet)\n",
    "    f1_score=mcEvaluator.evaluate(df_prediction.select(\"label\", \"prediction\"), {mcEvaluator.metricName: \"f1\"})\n",
    "    accuracy_score=mcEvaluator.evaluate(df_prediction.select(\"label\", \"prediction\"), {mcEvaluator.metricName: \"accuracy\"})\n",
    "    return (f1_score, accuracy_score)\n"
   ]
  },
  {
   "cell_type": "code",
   "execution_count": 39,
   "metadata": {},
   "outputs": [],
   "source": [
    "# Training of Classifiers\n",
    "\n",
    "# Decision Tree Classifier\n",
    "decTreeCl = DecisionTreeClassifier(labelCol=\"label\", featuresCol=\"features\")\n",
    "\n",
    "# Gradient-boosted Tree Classifier\n",
    "gradBoostTrCl = GBTClassifier(labelCol=\"label\", featuresCol=\"features\", maxIter=10)\n",
    "\n",
    "# Random Forest Classifier\n",
    "randForCl = RandomForestClassifier(seed=42)\n",
    "\n",
    "# Linear Regression\n",
    "linRegCl = LinearRegression(maxIter=5, regParam=0.0, fitIntercept=False, solver=\"normal\")\n",
    "\n",
    "# Logistic Regression\n",
    "logRegCl = LogisticRegression(maxIter=50)\n",
    "\n",
    "# Linear Support Vector Machine\n",
    "linSVCCl = LinearSVC(maxIter=10, regParam=0.1)\n",
    "\n",
    "# Multilayer perceptron Classifier\n",
    "layers = [79, 10, 5, 2]\n",
    "mulLayPerCl = MultilayerPerceptronClassifier(maxIter=100, layers=layers, blockSize=128, seed=1234)\n",
    "\n",
    "classifiers = [(\"DecisionTreeClassifier\", decTreeCl),\n",
    "               (\"GBTClassifier\", gradBoostTrCl),\n",
    "               (\"RandomForestClassifier\", randForCl),\n",
    "               (\"LinearRegression\", linRegCl),\n",
    "               (\"LogisticRegression\", logRegCl),\n",
    "               (\"LinearSVC\", linSVCCl), \n",
    "               (\"MultilayerPerceptronClassifier\", mulLayPerCl)]\n",
    "\n",
    "# Trains/Tests the initialized classifiers and collects the results in a data frame\n",
    "resultScores={}\n",
    "for clName, classifier in classifiers:\n",
    "    currResultScores={}\n",
    "    f1_score, accuracy = testClassifier(classifier, df_train, df_test)\n",
    "    currResultScores[\"F1_Score\"]=f1_score\n",
    "    currResultScores[\"Accuracy\"]=accuracy\n",
    "    resultScores[clName]=currResultScores\n",
    "    \n",
    "df_resultScores=pd.DataFrame(resultScores)"
   ]
  },
  {
   "cell_type": "code",
   "execution_count": 40,
   "metadata": {},
   "outputs": [
    {
     "data": {
      "text/html": [
       "<div>\n",
       "<style scoped>\n",
       "    .dataframe tbody tr th:only-of-type {\n",
       "        vertical-align: middle;\n",
       "    }\n",
       "\n",
       "    .dataframe tbody tr th {\n",
       "        vertical-align: top;\n",
       "    }\n",
       "\n",
       "    .dataframe thead th {\n",
       "        text-align: right;\n",
       "    }\n",
       "</style>\n",
       "<table border=\"1\" class=\"dataframe\">\n",
       "  <thead>\n",
       "    <tr style=\"text-align: right;\">\n",
       "      <th></th>\n",
       "      <th>DecisionTreeClassifier</th>\n",
       "      <th>GBTClassifier</th>\n",
       "      <th>RandomForestClassifier</th>\n",
       "      <th>LinearRegression</th>\n",
       "      <th>LogisticRegression</th>\n",
       "      <th>LinearSVC</th>\n",
       "      <th>MultilayerPerceptronClassifier</th>\n",
       "    </tr>\n",
       "  </thead>\n",
       "  <tbody>\n",
       "    <tr>\n",
       "      <th>F1_Score</th>\n",
       "      <td>0.625000</td>\n",
       "      <td>0.625000</td>\n",
       "      <td>0.620513</td>\n",
       "      <td>0.0</td>\n",
       "      <td>0.687439</td>\n",
       "      <td>0.669333</td>\n",
       "      <td>0.650667</td>\n",
       "    </tr>\n",
       "    <tr>\n",
       "      <th>Accuracy</th>\n",
       "      <td>0.666667</td>\n",
       "      <td>0.666667</td>\n",
       "      <td>0.733333</td>\n",
       "      <td>0.0</td>\n",
       "      <td>0.716667</td>\n",
       "      <td>0.733333</td>\n",
       "      <td>0.683333</td>\n",
       "    </tr>\n",
       "  </tbody>\n",
       "</table>\n",
       "</div>"
      ],
      "text/plain": [
       "          DecisionTreeClassifier  GBTClassifier  RandomForestClassifier  \\\n",
       "F1_Score                0.625000       0.625000                0.620513   \n",
       "Accuracy                0.666667       0.666667                0.733333   \n",
       "\n",
       "          LinearRegression  LogisticRegression  LinearSVC  \\\n",
       "F1_Score               0.0            0.687439   0.669333   \n",
       "Accuracy               0.0            0.716667   0.733333   \n",
       "\n",
       "          MultilayerPerceptronClassifier  \n",
       "F1_Score                        0.650667  \n",
       "Accuracy                        0.683333  "
      ]
     },
     "execution_count": 40,
     "metadata": {},
     "output_type": "execute_result"
    }
   ],
   "source": [
    "# Results of the classifier test\n",
    "\n",
    "df_resultScores"
   ]
  },
  {
   "cell_type": "markdown",
   "metadata": {},
   "source": [
    "The results table shows that the LogisticRegression classifier performs best on the given dataset (maximum F1 score and maximum accuracy value). \n",
    "We will continue the modelling by tuning the LogisticRegression classifier. \n",
    "\n",
    "The LogisticRegression classifier allows us to weight the single entities in training. As the training dataset is heavily imbalanced concerning churn, we will first calculate the proportions of churning (1) and not-churning (0) users and weight the entries correspondingly in an additional column. "
   ]
  },
  {
   "cell_type": "code",
   "execution_count": 41,
   "metadata": {},
   "outputs": [],
   "source": [
    "# Weighting/Balancing of train data\n",
    "# Calculates percentage of 1 and 0 labels. As train dataset is heavily imbalanced, we create an additinonal column\n",
    "# to account for this in the future training\n",
    "\n",
    "train_size=df_train.select(\"label\").count()\n",
    "numPositives=df_train.select(\"label\").where(\"label == 1\").count()\n",
    "numNegatives=train_size-numPositives\n",
    "percentagePos=float(numPositives)/float(train_size)\n",
    "percentageNeg=float(numNegatives)/float(train_size)\n",
    "\n",
    "df_train_2=df_train.withColumn(\"classWeights\", f.when(df_train.label == 1, percentageNeg).otherwise(percentagePos))"
   ]
  },
  {
   "cell_type": "code",
   "execution_count": 42,
   "metadata": {},
   "outputs": [
    {
     "name": "stdout",
     "output_type": "stream",
     "text": [
      "Tuning results:\n",
      "Aggregation Depth:  2\n",
      "Elastic Net Param:  0.0\n",
      "F1 score of best model:  0.6506666666666667\n",
      "Accuracy of best model:  0.6833333333333333\n",
      "\n",
      "Tuning metrics:  [0.6997631621907247, 0.6997631621907247, 0.6997631621907247, 0.6997631621907247]\n"
     ]
    }
   ],
   "source": [
    "# Tuning of Logistic Regression\n",
    "\n",
    "# Tunes the LogistcRegression classifier using a parameter grid. \n",
    "# For reliable results, 3-fold cross validation is used.\n",
    "\n",
    "# As the number of necessary train- and test-cycles multiplies with the number of parameters and cross validation cycles, \n",
    "# a reduced parameter set is used for performance reasons. \n",
    "\n",
    "logRegCl = LogisticRegression(maxIter=50, labelCol=\"label\", featuresCol=\"features\", weightCol=\"classWeights\")\n",
    "\n",
    "# Parameter set\n",
    "'''\n",
    "paramGrid = ParamGridBuilder() \\\n",
    "    .addGrid(logRegCl.aggregationDepth, [2,3,5,8]) \\\n",
    "    .addGrid(logRegCl.elasticNetParam, [0.0, 0.5, 1.0]) \\\n",
    "    .addGrid(logRegCl.fitIntercept, [True, False]) \\\n",
    "    .addGrid(logRegCl.maxIter, [10,100,1000]) \\\n",
    "    .addGrid(logRegCl.regParam, [0.1, 0.5, 2.0]) \\\n",
    "    .build()\n",
    "'''\n",
    "\n",
    "# Reduced parameter set\n",
    "paramGrid = ParamGridBuilder() \\\n",
    "    .addGrid(logRegCl.aggregationDepth, [2,10]) \\\n",
    "    .addGrid(logRegCl.elasticNetParam, [0.0, 0.5]) \\\n",
    "    .build()\n",
    "\n",
    "crossval = CrossValidator(estimator=logRegCl,\n",
    "                          estimatorParamMaps=paramGrid,\n",
    "                          evaluator=MulticlassClassificationEvaluator(),\n",
    "                          numFolds=3)\n",
    "\n",
    "# Training and prediction\n",
    "logModel=crossval.fit(df_train_2)\n",
    "df_prediction=logModel.transform(df_test)\n",
    "\n",
    "# Evaluation of results\n",
    "mcEvaluator= MulticlassClassificationEvaluator(predictionCol=\"prediction\")\n",
    "f1_score=mcEvaluator.evaluate(df_prediction.select(\"label\", \"prediction\"), {mcEvaluator.metricName: \"f1\"})\n",
    "accuracy_score=mcEvaluator.evaluate(df_prediction.select(\"label\", \"prediction\"), {mcEvaluator.metricName: \"accuracy\"})\n",
    "\n",
    "print(\"Tuning results:\")\n",
    "print(\"Aggregation Depth: \", logModel.bestModel.getAggregationDepth())\n",
    "print(\"Elastic Net Param: \", logModel.bestModel.getElasticNetParam())\n",
    "print(\"F1 score of best model: \", f1_score)\n",
    "print(\"Accuracy of best model: \", accuracy_score)\n",
    "print(\"\")\n",
    "print(\"Tuning metrics: \", logModel.avgMetrics)"
   ]
  },
  {
   "cell_type": "markdown",
   "metadata": {},
   "source": [
    "# Final Steps\n",
    "Clean up your code, adding comments and renaming variables to make the code easier to read and maintain. Refer to the Spark Project Overview page and Data Scientist Capstone Project Rubric to make sure you are including all components of the capstone project and meet all expectations. Remember, this includes thorough documentation in a README file in a Github repository, as well as a web app or blog post."
   ]
  },
  {
   "cell_type": "code",
   "execution_count": null,
   "metadata": {},
   "outputs": [],
   "source": []
  }
 ],
 "metadata": {
  "kernelspec": {
   "display_name": "Python 3",
   "language": "python",
   "name": "python3"
  },
  "language_info": {
   "codemirror_mode": {
    "name": "ipython",
    "version": 3
   },
   "file_extension": ".py",
   "mimetype": "text/x-python",
   "name": "python",
   "nbconvert_exporter": "python",
   "pygments_lexer": "ipython3",
   "version": "3.8.2"
  }
 },
 "nbformat": 4,
 "nbformat_minor": 2
}
